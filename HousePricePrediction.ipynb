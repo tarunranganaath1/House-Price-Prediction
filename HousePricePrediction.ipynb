{
 "cells": [
  {
   "cell_type": "markdown",
   "metadata": {},
   "source": [
    "House Price Prediction"
   ]
  },
  {
   "cell_type": "markdown",
   "metadata": {},
   "source": []
  },
  {
   "cell_type": "markdown",
   "metadata": {},
   "source": [
    "### Run the current cell and select below"
   ]
  },
  {
   "cell_type": "raw",
   "metadata": {},
   "source": []
  },
  {
   "cell_type": "markdown",
   "metadata": {},
   "source": [
    "### Save and checkpoint"
   ]
  },
  {
   "cell_type": "raw",
   "metadata": {},
   "source": [
    "# Ctrl + S"
   ]
  },
  {
   "cell_type": "markdown",
   "metadata": {},
   "source": [
    "### Create a cell above"
   ]
  },
  {
   "cell_type": "code",
   "execution_count": null,
   "metadata": {},
   "outputs": [],
   "source": []
  },
  {
   "cell_type": "raw",
   "metadata": {},
   "source": [
    "# Esc,Shift,a"
   ]
  },
  {
   "cell_type": "markdown",
   "metadata": {},
   "source": [
    "### Delete cell"
   ]
  },
  {
   "cell_type": "code",
   "execution_count": null,
   "metadata": {},
   "outputs": [],
   "source": [
    "# Esc, dd"
   ]
  },
  {
   "cell_type": "markdown",
   "metadata": {},
   "source": [
    "\n"
   ]
  },
  {
   "cell_type": "markdown",
   "metadata": {},
   "source": [
    "### Run all freshly"
   ]
  },
  {
   "cell_type": "code",
   "execution_count": null,
   "metadata": {},
   "outputs": [],
   "source": [
    "# Kernel -> Restart & Run All"
   ]
  },
  {
   "cell_type": "markdown",
   "metadata": {},
   "source": [
    "## Import Libraries"
   ]
  },
  {
   "cell_type": "code",
   "execution_count": 2,
   "metadata": {},
   "outputs": [],
   "source": [
    "\n",
    "import pandas"
   ]
  },
  {
   "cell_type": "markdown",
   "metadata": {},
   "source": [
    "## Read File"
   ]
  },
  {
   "cell_type": "code",
   "execution_count": 3,
   "metadata": {},
   "outputs": [
    {
     "data": {
      "text/html": [
       "<div>\n",
       "<style scoped>\n",
       "    .dataframe tbody tr th:only-of-type {\n",
       "        vertical-align: middle;\n",
       "    }\n",
       "\n",
       "    .dataframe tbody tr th {\n",
       "        vertical-align: top;\n",
       "    }\n",
       "\n",
       "    .dataframe thead th {\n",
       "        text-align: right;\n",
       "    }\n",
       "</style>\n",
       "<table border=\"1\" class=\"dataframe\">\n",
       "  <thead>\n",
       "    <tr style=\"text-align: right;\">\n",
       "      <th></th>\n",
       "      <th>Avg. Area Income</th>\n",
       "      <th>Avg. Area House Age</th>\n",
       "      <th>Avg. Area Number of Rooms</th>\n",
       "      <th>Avg. Area Number of Bedrooms</th>\n",
       "      <th>Area Population</th>\n",
       "      <th>Price</th>\n",
       "      <th>Address</th>\n",
       "    </tr>\n",
       "  </thead>\n",
       "  <tbody>\n",
       "    <tr>\n",
       "      <th>0</th>\n",
       "      <td>79545.458574</td>\n",
       "      <td>5.682861</td>\n",
       "      <td>7.009188</td>\n",
       "      <td>4.09</td>\n",
       "      <td>23086.800503</td>\n",
       "      <td>1.059034e+06</td>\n",
       "      <td>208 Michael Ferry Apt. 674\\nLaurabury, NE 3701...</td>\n",
       "    </tr>\n",
       "    <tr>\n",
       "      <th>1</th>\n",
       "      <td>79248.642455</td>\n",
       "      <td>6.002900</td>\n",
       "      <td>6.730821</td>\n",
       "      <td>3.09</td>\n",
       "      <td>40173.072174</td>\n",
       "      <td>1.505891e+06</td>\n",
       "      <td>188 Johnson Views Suite 079\\nLake Kathleen, CA...</td>\n",
       "    </tr>\n",
       "    <tr>\n",
       "      <th>2</th>\n",
       "      <td>61287.067179</td>\n",
       "      <td>5.865890</td>\n",
       "      <td>8.512727</td>\n",
       "      <td>5.13</td>\n",
       "      <td>36882.159400</td>\n",
       "      <td>1.058988e+06</td>\n",
       "      <td>9127 Elizabeth Stravenue\\nDanieltown, WI 06482...</td>\n",
       "    </tr>\n",
       "    <tr>\n",
       "      <th>3</th>\n",
       "      <td>63345.240046</td>\n",
       "      <td>7.188236</td>\n",
       "      <td>5.586729</td>\n",
       "      <td>3.26</td>\n",
       "      <td>34310.242831</td>\n",
       "      <td>1.260617e+06</td>\n",
       "      <td>USS Barnett\\nFPO AP 44820</td>\n",
       "    </tr>\n",
       "    <tr>\n",
       "      <th>4</th>\n",
       "      <td>59982.197226</td>\n",
       "      <td>5.040555</td>\n",
       "      <td>7.839388</td>\n",
       "      <td>4.23</td>\n",
       "      <td>26354.109472</td>\n",
       "      <td>6.309435e+05</td>\n",
       "      <td>USNS Raymond\\nFPO AE 09386</td>\n",
       "    </tr>\n",
       "    <tr>\n",
       "      <th>...</th>\n",
       "      <td>...</td>\n",
       "      <td>...</td>\n",
       "      <td>...</td>\n",
       "      <td>...</td>\n",
       "      <td>...</td>\n",
       "      <td>...</td>\n",
       "      <td>...</td>\n",
       "    </tr>\n",
       "    <tr>\n",
       "      <th>4995</th>\n",
       "      <td>60567.944140</td>\n",
       "      <td>7.830362</td>\n",
       "      <td>6.137356</td>\n",
       "      <td>3.46</td>\n",
       "      <td>22837.361035</td>\n",
       "      <td>1.060194e+06</td>\n",
       "      <td>USNS Williams\\nFPO AP 30153-7653</td>\n",
       "    </tr>\n",
       "    <tr>\n",
       "      <th>4996</th>\n",
       "      <td>78491.275435</td>\n",
       "      <td>6.999135</td>\n",
       "      <td>6.576763</td>\n",
       "      <td>4.02</td>\n",
       "      <td>25616.115489</td>\n",
       "      <td>1.482618e+06</td>\n",
       "      <td>PSC 9258, Box 8489\\nAPO AA 42991-3352</td>\n",
       "    </tr>\n",
       "    <tr>\n",
       "      <th>4997</th>\n",
       "      <td>63390.686886</td>\n",
       "      <td>7.250591</td>\n",
       "      <td>4.805081</td>\n",
       "      <td>2.13</td>\n",
       "      <td>33266.145490</td>\n",
       "      <td>1.030730e+06</td>\n",
       "      <td>4215 Tracy Garden Suite 076\\nJoshualand, VA 01...</td>\n",
       "    </tr>\n",
       "    <tr>\n",
       "      <th>4998</th>\n",
       "      <td>68001.331235</td>\n",
       "      <td>5.534388</td>\n",
       "      <td>7.130144</td>\n",
       "      <td>5.44</td>\n",
       "      <td>42625.620156</td>\n",
       "      <td>1.198657e+06</td>\n",
       "      <td>USS Wallace\\nFPO AE 73316</td>\n",
       "    </tr>\n",
       "    <tr>\n",
       "      <th>4999</th>\n",
       "      <td>65510.581804</td>\n",
       "      <td>5.992305</td>\n",
       "      <td>6.792336</td>\n",
       "      <td>4.07</td>\n",
       "      <td>46501.283803</td>\n",
       "      <td>1.298950e+06</td>\n",
       "      <td>37778 George Ridges Apt. 509\\nEast Holly, NV 2...</td>\n",
       "    </tr>\n",
       "  </tbody>\n",
       "</table>\n",
       "<p>5000 rows × 7 columns</p>\n",
       "</div>"
      ],
      "text/plain": [
       "      Avg. Area Income  Avg. Area House Age  Avg. Area Number of Rooms  \\\n",
       "0         79545.458574             5.682861                   7.009188   \n",
       "1         79248.642455             6.002900                   6.730821   \n",
       "2         61287.067179             5.865890                   8.512727   \n",
       "3         63345.240046             7.188236                   5.586729   \n",
       "4         59982.197226             5.040555                   7.839388   \n",
       "...                ...                  ...                        ...   \n",
       "4995      60567.944140             7.830362                   6.137356   \n",
       "4996      78491.275435             6.999135                   6.576763   \n",
       "4997      63390.686886             7.250591                   4.805081   \n",
       "4998      68001.331235             5.534388                   7.130144   \n",
       "4999      65510.581804             5.992305                   6.792336   \n",
       "\n",
       "      Avg. Area Number of Bedrooms  Area Population         Price  \\\n",
       "0                             4.09     23086.800503  1.059034e+06   \n",
       "1                             3.09     40173.072174  1.505891e+06   \n",
       "2                             5.13     36882.159400  1.058988e+06   \n",
       "3                             3.26     34310.242831  1.260617e+06   \n",
       "4                             4.23     26354.109472  6.309435e+05   \n",
       "...                            ...              ...           ...   \n",
       "4995                          3.46     22837.361035  1.060194e+06   \n",
       "4996                          4.02     25616.115489  1.482618e+06   \n",
       "4997                          2.13     33266.145490  1.030730e+06   \n",
       "4998                          5.44     42625.620156  1.198657e+06   \n",
       "4999                          4.07     46501.283803  1.298950e+06   \n",
       "\n",
       "                                                Address  \n",
       "0     208 Michael Ferry Apt. 674\\nLaurabury, NE 3701...  \n",
       "1     188 Johnson Views Suite 079\\nLake Kathleen, CA...  \n",
       "2     9127 Elizabeth Stravenue\\nDanieltown, WI 06482...  \n",
       "3                             USS Barnett\\nFPO AP 44820  \n",
       "4                            USNS Raymond\\nFPO AE 09386  \n",
       "...                                                 ...  \n",
       "4995                   USNS Williams\\nFPO AP 30153-7653  \n",
       "4996              PSC 9258, Box 8489\\nAPO AA 42991-3352  \n",
       "4997  4215 Tracy Garden Suite 076\\nJoshualand, VA 01...  \n",
       "4998                          USS Wallace\\nFPO AE 73316  \n",
       "4999  37778 George Ridges Apt. 509\\nEast Holly, NV 2...  \n",
       "\n",
       "[5000 rows x 7 columns]"
      ]
     },
     "execution_count": 3,
     "metadata": {},
     "output_type": "execute_result"
    }
   ],
   "source": [
    "\n",
    "pandas.read_csv('Tarun_list.csv')"
   ]
  },
  {
   "cell_type": "markdown",
   "metadata": {},
   "source": [
    "## Store File after reading"
   ]
  },
  {
   "cell_type": "code",
   "execution_count": 4,
   "metadata": {},
   "outputs": [
    {
     "data": {
      "text/html": [
       "<div>\n",
       "<style scoped>\n",
       "    .dataframe tbody tr th:only-of-type {\n",
       "        vertical-align: middle;\n",
       "    }\n",
       "\n",
       "    .dataframe tbody tr th {\n",
       "        vertical-align: top;\n",
       "    }\n",
       "\n",
       "    .dataframe thead th {\n",
       "        text-align: right;\n",
       "    }\n",
       "</style>\n",
       "<table border=\"1\" class=\"dataframe\">\n",
       "  <thead>\n",
       "    <tr style=\"text-align: right;\">\n",
       "      <th></th>\n",
       "      <th>Avg. Area Income</th>\n",
       "      <th>Avg. Area House Age</th>\n",
       "      <th>Avg. Area Number of Rooms</th>\n",
       "      <th>Avg. Area Number of Bedrooms</th>\n",
       "      <th>Area Population</th>\n",
       "      <th>Price</th>\n",
       "      <th>Address</th>\n",
       "    </tr>\n",
       "  </thead>\n",
       "  <tbody>\n",
       "    <tr>\n",
       "      <th>0</th>\n",
       "      <td>79545.458574</td>\n",
       "      <td>5.682861</td>\n",
       "      <td>7.009188</td>\n",
       "      <td>4.09</td>\n",
       "      <td>23086.800503</td>\n",
       "      <td>1.059034e+06</td>\n",
       "      <td>208 Michael Ferry Apt. 674\\nLaurabury, NE 3701...</td>\n",
       "    </tr>\n",
       "    <tr>\n",
       "      <th>1</th>\n",
       "      <td>79248.642455</td>\n",
       "      <td>6.002900</td>\n",
       "      <td>6.730821</td>\n",
       "      <td>3.09</td>\n",
       "      <td>40173.072174</td>\n",
       "      <td>1.505891e+06</td>\n",
       "      <td>188 Johnson Views Suite 079\\nLake Kathleen, CA...</td>\n",
       "    </tr>\n",
       "    <tr>\n",
       "      <th>2</th>\n",
       "      <td>61287.067179</td>\n",
       "      <td>5.865890</td>\n",
       "      <td>8.512727</td>\n",
       "      <td>5.13</td>\n",
       "      <td>36882.159400</td>\n",
       "      <td>1.058988e+06</td>\n",
       "      <td>9127 Elizabeth Stravenue\\nDanieltown, WI 06482...</td>\n",
       "    </tr>\n",
       "    <tr>\n",
       "      <th>3</th>\n",
       "      <td>63345.240046</td>\n",
       "      <td>7.188236</td>\n",
       "      <td>5.586729</td>\n",
       "      <td>3.26</td>\n",
       "      <td>34310.242831</td>\n",
       "      <td>1.260617e+06</td>\n",
       "      <td>USS Barnett\\nFPO AP 44820</td>\n",
       "    </tr>\n",
       "    <tr>\n",
       "      <th>4</th>\n",
       "      <td>59982.197226</td>\n",
       "      <td>5.040555</td>\n",
       "      <td>7.839388</td>\n",
       "      <td>4.23</td>\n",
       "      <td>26354.109472</td>\n",
       "      <td>6.309435e+05</td>\n",
       "      <td>USNS Raymond\\nFPO AE 09386</td>\n",
       "    </tr>\n",
       "    <tr>\n",
       "      <th>...</th>\n",
       "      <td>...</td>\n",
       "      <td>...</td>\n",
       "      <td>...</td>\n",
       "      <td>...</td>\n",
       "      <td>...</td>\n",
       "      <td>...</td>\n",
       "      <td>...</td>\n",
       "    </tr>\n",
       "    <tr>\n",
       "      <th>4995</th>\n",
       "      <td>60567.944140</td>\n",
       "      <td>7.830362</td>\n",
       "      <td>6.137356</td>\n",
       "      <td>3.46</td>\n",
       "      <td>22837.361035</td>\n",
       "      <td>1.060194e+06</td>\n",
       "      <td>USNS Williams\\nFPO AP 30153-7653</td>\n",
       "    </tr>\n",
       "    <tr>\n",
       "      <th>4996</th>\n",
       "      <td>78491.275435</td>\n",
       "      <td>6.999135</td>\n",
       "      <td>6.576763</td>\n",
       "      <td>4.02</td>\n",
       "      <td>25616.115489</td>\n",
       "      <td>1.482618e+06</td>\n",
       "      <td>PSC 9258, Box 8489\\nAPO AA 42991-3352</td>\n",
       "    </tr>\n",
       "    <tr>\n",
       "      <th>4997</th>\n",
       "      <td>63390.686886</td>\n",
       "      <td>7.250591</td>\n",
       "      <td>4.805081</td>\n",
       "      <td>2.13</td>\n",
       "      <td>33266.145490</td>\n",
       "      <td>1.030730e+06</td>\n",
       "      <td>4215 Tracy Garden Suite 076\\nJoshualand, VA 01...</td>\n",
       "    </tr>\n",
       "    <tr>\n",
       "      <th>4998</th>\n",
       "      <td>68001.331235</td>\n",
       "      <td>5.534388</td>\n",
       "      <td>7.130144</td>\n",
       "      <td>5.44</td>\n",
       "      <td>42625.620156</td>\n",
       "      <td>1.198657e+06</td>\n",
       "      <td>USS Wallace\\nFPO AE 73316</td>\n",
       "    </tr>\n",
       "    <tr>\n",
       "      <th>4999</th>\n",
       "      <td>65510.581804</td>\n",
       "      <td>5.992305</td>\n",
       "      <td>6.792336</td>\n",
       "      <td>4.07</td>\n",
       "      <td>46501.283803</td>\n",
       "      <td>1.298950e+06</td>\n",
       "      <td>37778 George Ridges Apt. 509\\nEast Holly, NV 2...</td>\n",
       "    </tr>\n",
       "  </tbody>\n",
       "</table>\n",
       "<p>5000 rows × 7 columns</p>\n",
       "</div>"
      ],
      "text/plain": [
       "      Avg. Area Income  Avg. Area House Age  Avg. Area Number of Rooms  \\\n",
       "0         79545.458574             5.682861                   7.009188   \n",
       "1         79248.642455             6.002900                   6.730821   \n",
       "2         61287.067179             5.865890                   8.512727   \n",
       "3         63345.240046             7.188236                   5.586729   \n",
       "4         59982.197226             5.040555                   7.839388   \n",
       "...                ...                  ...                        ...   \n",
       "4995      60567.944140             7.830362                   6.137356   \n",
       "4996      78491.275435             6.999135                   6.576763   \n",
       "4997      63390.686886             7.250591                   4.805081   \n",
       "4998      68001.331235             5.534388                   7.130144   \n",
       "4999      65510.581804             5.992305                   6.792336   \n",
       "\n",
       "      Avg. Area Number of Bedrooms  Area Population         Price  \\\n",
       "0                             4.09     23086.800503  1.059034e+06   \n",
       "1                             3.09     40173.072174  1.505891e+06   \n",
       "2                             5.13     36882.159400  1.058988e+06   \n",
       "3                             3.26     34310.242831  1.260617e+06   \n",
       "4                             4.23     26354.109472  6.309435e+05   \n",
       "...                            ...              ...           ...   \n",
       "4995                          3.46     22837.361035  1.060194e+06   \n",
       "4996                          4.02     25616.115489  1.482618e+06   \n",
       "4997                          2.13     33266.145490  1.030730e+06   \n",
       "4998                          5.44     42625.620156  1.198657e+06   \n",
       "4999                          4.07     46501.283803  1.298950e+06   \n",
       "\n",
       "                                                Address  \n",
       "0     208 Michael Ferry Apt. 674\\nLaurabury, NE 3701...  \n",
       "1     188 Johnson Views Suite 079\\nLake Kathleen, CA...  \n",
       "2     9127 Elizabeth Stravenue\\nDanieltown, WI 06482...  \n",
       "3                             USS Barnett\\nFPO AP 44820  \n",
       "4                            USNS Raymond\\nFPO AE 09386  \n",
       "...                                                 ...  \n",
       "4995                   USNS Williams\\nFPO AP 30153-7653  \n",
       "4996              PSC 9258, Box 8489\\nAPO AA 42991-3352  \n",
       "4997  4215 Tracy Garden Suite 076\\nJoshualand, VA 01...  \n",
       "4998                          USS Wallace\\nFPO AE 73316  \n",
       "4999  37778 George Ridges Apt. 509\\nEast Holly, NV 2...  \n",
       "\n",
       "[5000 rows x 7 columns]"
      ]
     },
     "execution_count": 4,
     "metadata": {},
     "output_type": "execute_result"
    }
   ],
   "source": [
    "pandas.read_csv('Tarun_list.csv')"
   ]
  },
  {
   "cell_type": "code",
   "execution_count": 5,
   "metadata": {},
   "outputs": [],
   "source": [
    "df = pandas.read_csv('Tarun_list.csv')"
   ]
  },
  {
   "cell_type": "markdown",
   "metadata": {},
   "source": [
    "## Display first 5 rows"
   ]
  },
  {
   "cell_type": "code",
   "execution_count": 5,
   "metadata": {},
   "outputs": [
    {
     "data": {
      "text/html": [
       "<div>\n",
       "<style scoped>\n",
       "    .dataframe tbody tr th:only-of-type {\n",
       "        vertical-align: middle;\n",
       "    }\n",
       "\n",
       "    .dataframe tbody tr th {\n",
       "        vertical-align: top;\n",
       "    }\n",
       "\n",
       "    .dataframe thead th {\n",
       "        text-align: right;\n",
       "    }\n",
       "</style>\n",
       "<table border=\"1\" class=\"dataframe\">\n",
       "  <thead>\n",
       "    <tr style=\"text-align: right;\">\n",
       "      <th></th>\n",
       "      <th>Avg. Area Income</th>\n",
       "      <th>Avg. Area House Age</th>\n",
       "      <th>Avg. Area Number of Rooms</th>\n",
       "      <th>Avg. Area Number of Bedrooms</th>\n",
       "      <th>Area Population</th>\n",
       "      <th>Price</th>\n",
       "      <th>Address</th>\n",
       "    </tr>\n",
       "  </thead>\n",
       "  <tbody>\n",
       "    <tr>\n",
       "      <th>0</th>\n",
       "      <td>79545.458574</td>\n",
       "      <td>5.682861</td>\n",
       "      <td>7.009188</td>\n",
       "      <td>4.09</td>\n",
       "      <td>23086.800503</td>\n",
       "      <td>1.059034e+06</td>\n",
       "      <td>208 Michael Ferry Apt. 674\\nLaurabury, NE 3701...</td>\n",
       "    </tr>\n",
       "    <tr>\n",
       "      <th>1</th>\n",
       "      <td>79248.642455</td>\n",
       "      <td>6.002900</td>\n",
       "      <td>6.730821</td>\n",
       "      <td>3.09</td>\n",
       "      <td>40173.072174</td>\n",
       "      <td>1.505891e+06</td>\n",
       "      <td>188 Johnson Views Suite 079\\nLake Kathleen, CA...</td>\n",
       "    </tr>\n",
       "    <tr>\n",
       "      <th>2</th>\n",
       "      <td>61287.067179</td>\n",
       "      <td>5.865890</td>\n",
       "      <td>8.512727</td>\n",
       "      <td>5.13</td>\n",
       "      <td>36882.159400</td>\n",
       "      <td>1.058988e+06</td>\n",
       "      <td>9127 Elizabeth Stravenue\\nDanieltown, WI 06482...</td>\n",
       "    </tr>\n",
       "    <tr>\n",
       "      <th>3</th>\n",
       "      <td>63345.240046</td>\n",
       "      <td>7.188236</td>\n",
       "      <td>5.586729</td>\n",
       "      <td>3.26</td>\n",
       "      <td>34310.242831</td>\n",
       "      <td>1.260617e+06</td>\n",
       "      <td>USS Barnett\\nFPO AP 44820</td>\n",
       "    </tr>\n",
       "    <tr>\n",
       "      <th>4</th>\n",
       "      <td>59982.197226</td>\n",
       "      <td>5.040555</td>\n",
       "      <td>7.839388</td>\n",
       "      <td>4.23</td>\n",
       "      <td>26354.109472</td>\n",
       "      <td>6.309435e+05</td>\n",
       "      <td>USNS Raymond\\nFPO AE 09386</td>\n",
       "    </tr>\n",
       "  </tbody>\n",
       "</table>\n",
       "</div>"
      ],
      "text/plain": [
       "   Avg. Area Income  Avg. Area House Age  Avg. Area Number of Rooms  \\\n",
       "0      79545.458574             5.682861                   7.009188   \n",
       "1      79248.642455             6.002900                   6.730821   \n",
       "2      61287.067179             5.865890                   8.512727   \n",
       "3      63345.240046             7.188236                   5.586729   \n",
       "4      59982.197226             5.040555                   7.839388   \n",
       "\n",
       "   Avg. Area Number of Bedrooms  Area Population         Price  \\\n",
       "0                          4.09     23086.800503  1.059034e+06   \n",
       "1                          3.09     40173.072174  1.505891e+06   \n",
       "2                          5.13     36882.159400  1.058988e+06   \n",
       "3                          3.26     34310.242831  1.260617e+06   \n",
       "4                          4.23     26354.109472  6.309435e+05   \n",
       "\n",
       "                                             Address  \n",
       "0  208 Michael Ferry Apt. 674\\nLaurabury, NE 3701...  \n",
       "1  188 Johnson Views Suite 079\\nLake Kathleen, CA...  \n",
       "2  9127 Elizabeth Stravenue\\nDanieltown, WI 06482...  \n",
       "3                          USS Barnett\\nFPO AP 44820  \n",
       "4                         USNS Raymond\\nFPO AE 09386  "
      ]
     },
     "execution_count": 5,
     "metadata": {},
     "output_type": "execute_result"
    }
   ],
   "source": [
    "df.head(5)"
   ]
  },
  {
   "cell_type": "code",
   "execution_count": 6,
   "metadata": {},
   "outputs": [
    {
     "data": {
      "text/html": [
       "<div>\n",
       "<style scoped>\n",
       "    .dataframe tbody tr th:only-of-type {\n",
       "        vertical-align: middle;\n",
       "    }\n",
       "\n",
       "    .dataframe tbody tr th {\n",
       "        vertical-align: top;\n",
       "    }\n",
       "\n",
       "    .dataframe thead th {\n",
       "        text-align: right;\n",
       "    }\n",
       "</style>\n",
       "<table border=\"1\" class=\"dataframe\">\n",
       "  <thead>\n",
       "    <tr style=\"text-align: right;\">\n",
       "      <th></th>\n",
       "      <th>Avg. Area Income</th>\n",
       "      <th>Avg. Area House Age</th>\n",
       "      <th>Avg. Area Number of Rooms</th>\n",
       "      <th>Avg. Area Number of Bedrooms</th>\n",
       "      <th>Area Population</th>\n",
       "      <th>Price</th>\n",
       "      <th>Address</th>\n",
       "    </tr>\n",
       "  </thead>\n",
       "  <tbody>\n",
       "    <tr>\n",
       "      <th>4995</th>\n",
       "      <td>60567.944140</td>\n",
       "      <td>7.830362</td>\n",
       "      <td>6.137356</td>\n",
       "      <td>3.46</td>\n",
       "      <td>22837.361035</td>\n",
       "      <td>1.060194e+06</td>\n",
       "      <td>USNS Williams\\nFPO AP 30153-7653</td>\n",
       "    </tr>\n",
       "    <tr>\n",
       "      <th>4996</th>\n",
       "      <td>78491.275435</td>\n",
       "      <td>6.999135</td>\n",
       "      <td>6.576763</td>\n",
       "      <td>4.02</td>\n",
       "      <td>25616.115489</td>\n",
       "      <td>1.482618e+06</td>\n",
       "      <td>PSC 9258, Box 8489\\nAPO AA 42991-3352</td>\n",
       "    </tr>\n",
       "    <tr>\n",
       "      <th>4997</th>\n",
       "      <td>63390.686886</td>\n",
       "      <td>7.250591</td>\n",
       "      <td>4.805081</td>\n",
       "      <td>2.13</td>\n",
       "      <td>33266.145490</td>\n",
       "      <td>1.030730e+06</td>\n",
       "      <td>4215 Tracy Garden Suite 076\\nJoshualand, VA 01...</td>\n",
       "    </tr>\n",
       "    <tr>\n",
       "      <th>4998</th>\n",
       "      <td>68001.331235</td>\n",
       "      <td>5.534388</td>\n",
       "      <td>7.130144</td>\n",
       "      <td>5.44</td>\n",
       "      <td>42625.620156</td>\n",
       "      <td>1.198657e+06</td>\n",
       "      <td>USS Wallace\\nFPO AE 73316</td>\n",
       "    </tr>\n",
       "    <tr>\n",
       "      <th>4999</th>\n",
       "      <td>65510.581804</td>\n",
       "      <td>5.992305</td>\n",
       "      <td>6.792336</td>\n",
       "      <td>4.07</td>\n",
       "      <td>46501.283803</td>\n",
       "      <td>1.298950e+06</td>\n",
       "      <td>37778 George Ridges Apt. 509\\nEast Holly, NV 2...</td>\n",
       "    </tr>\n",
       "  </tbody>\n",
       "</table>\n",
       "</div>"
      ],
      "text/plain": [
       "      Avg. Area Income  Avg. Area House Age  Avg. Area Number of Rooms  \\\n",
       "4995      60567.944140             7.830362                   6.137356   \n",
       "4996      78491.275435             6.999135                   6.576763   \n",
       "4997      63390.686886             7.250591                   4.805081   \n",
       "4998      68001.331235             5.534388                   7.130144   \n",
       "4999      65510.581804             5.992305                   6.792336   \n",
       "\n",
       "      Avg. Area Number of Bedrooms  Area Population         Price  \\\n",
       "4995                          3.46     22837.361035  1.060194e+06   \n",
       "4996                          4.02     25616.115489  1.482618e+06   \n",
       "4997                          2.13     33266.145490  1.030730e+06   \n",
       "4998                          5.44     42625.620156  1.198657e+06   \n",
       "4999                          4.07     46501.283803  1.298950e+06   \n",
       "\n",
       "                                                Address  \n",
       "4995                   USNS Williams\\nFPO AP 30153-7653  \n",
       "4996              PSC 9258, Box 8489\\nAPO AA 42991-3352  \n",
       "4997  4215 Tracy Garden Suite 076\\nJoshualand, VA 01...  \n",
       "4998                          USS Wallace\\nFPO AE 73316  \n",
       "4999  37778 George Ridges Apt. 509\\nEast Holly, NV 2...  "
      ]
     },
     "execution_count": 6,
     "metadata": {},
     "output_type": "execute_result"
    }
   ],
   "source": [
    "df.tail()"
   ]
  },
  {
   "cell_type": "markdown",
   "metadata": {},
   "source": [
    "## Get no.of rows and columns"
   ]
  },
  {
   "cell_type": "code",
   "execution_count": 7,
   "metadata": {},
   "outputs": [
    {
     "data": {
      "text/plain": [
       "(5000, 7)"
      ]
     },
     "execution_count": 7,
     "metadata": {},
     "output_type": "execute_result"
    }
   ],
   "source": [
    "df.shape"
   ]
  },
  {
   "cell_type": "markdown",
   "metadata": {},
   "source": [
    "## See data type of each variable"
   ]
  },
  {
   "cell_type": "code",
   "execution_count": 8,
   "metadata": {},
   "outputs": [
    {
     "data": {
      "text/plain": [
       "<bound method DataFrame.info of       Avg. Area Income  Avg. Area House Age  Avg. Area Number of Rooms  \\\n",
       "0         79545.458574             5.682861                   7.009188   \n",
       "1         79248.642455             6.002900                   6.730821   \n",
       "2         61287.067179             5.865890                   8.512727   \n",
       "3         63345.240046             7.188236                   5.586729   \n",
       "4         59982.197226             5.040555                   7.839388   \n",
       "...                ...                  ...                        ...   \n",
       "4995      60567.944140             7.830362                   6.137356   \n",
       "4996      78491.275435             6.999135                   6.576763   \n",
       "4997      63390.686886             7.250591                   4.805081   \n",
       "4998      68001.331235             5.534388                   7.130144   \n",
       "4999      65510.581804             5.992305                   6.792336   \n",
       "\n",
       "      Avg. Area Number of Bedrooms  Area Population         Price  \\\n",
       "0                             4.09     23086.800503  1.059034e+06   \n",
       "1                             3.09     40173.072174  1.505891e+06   \n",
       "2                             5.13     36882.159400  1.058988e+06   \n",
       "3                             3.26     34310.242831  1.260617e+06   \n",
       "4                             4.23     26354.109472  6.309435e+05   \n",
       "...                            ...              ...           ...   \n",
       "4995                          3.46     22837.361035  1.060194e+06   \n",
       "4996                          4.02     25616.115489  1.482618e+06   \n",
       "4997                          2.13     33266.145490  1.030730e+06   \n",
       "4998                          5.44     42625.620156  1.198657e+06   \n",
       "4999                          4.07     46501.283803  1.298950e+06   \n",
       "\n",
       "                                                Address  \n",
       "0     208 Michael Ferry Apt. 674\\nLaurabury, NE 3701...  \n",
       "1     188 Johnson Views Suite 079\\nLake Kathleen, CA...  \n",
       "2     9127 Elizabeth Stravenue\\nDanieltown, WI 06482...  \n",
       "3                             USS Barnett\\nFPO AP 44820  \n",
       "4                            USNS Raymond\\nFPO AE 09386  \n",
       "...                                                 ...  \n",
       "4995                   USNS Williams\\nFPO AP 30153-7653  \n",
       "4996              PSC 9258, Box 8489\\nAPO AA 42991-3352  \n",
       "4997  4215 Tracy Garden Suite 076\\nJoshualand, VA 01...  \n",
       "4998                          USS Wallace\\nFPO AE 73316  \n",
       "4999  37778 George Ridges Apt. 509\\nEast Holly, NV 2...  \n",
       "\n",
       "[5000 rows x 7 columns]>"
      ]
     },
     "execution_count": 8,
     "metadata": {},
     "output_type": "execute_result"
    }
   ],
   "source": [
    "df.info"
   ]
  },
  {
   "cell_type": "code",
   "execution_count": 9,
   "metadata": {},
   "outputs": [
    {
     "name": "stdout",
     "output_type": "stream",
     "text": [
      "<class 'pandas.core.frame.DataFrame'>\n",
      "RangeIndex: 5000 entries, 0 to 4999\n",
      "Data columns (total 7 columns):\n",
      " #   Column                        Non-Null Count  Dtype  \n",
      "---  ------                        --------------  -----  \n",
      " 0   Avg. Area Income              5000 non-null   float64\n",
      " 1   Avg. Area House Age           5000 non-null   float64\n",
      " 2   Avg. Area Number of Rooms     5000 non-null   float64\n",
      " 3   Avg. Area Number of Bedrooms  5000 non-null   float64\n",
      " 4   Area Population               5000 non-null   float64\n",
      " 5   Price                         5000 non-null   float64\n",
      " 6   Address                       5000 non-null   object \n",
      "dtypes: float64(6), object(1)\n",
      "memory usage: 273.6+ KB\n"
     ]
    }
   ],
   "source": [
    "df.info()"
   ]
  },
  {
   "cell_type": "markdown",
   "metadata": {},
   "source": [
    "## See base statistics of each variable"
   ]
  },
  {
   "cell_type": "code",
   "execution_count": 10,
   "metadata": {},
   "outputs": [
    {
     "data": {
      "text/plain": [
       "<bound method NDFrame.describe of       Avg. Area Income  Avg. Area House Age  Avg. Area Number of Rooms  \\\n",
       "0         79545.458574             5.682861                   7.009188   \n",
       "1         79248.642455             6.002900                   6.730821   \n",
       "2         61287.067179             5.865890                   8.512727   \n",
       "3         63345.240046             7.188236                   5.586729   \n",
       "4         59982.197226             5.040555                   7.839388   \n",
       "...                ...                  ...                        ...   \n",
       "4995      60567.944140             7.830362                   6.137356   \n",
       "4996      78491.275435             6.999135                   6.576763   \n",
       "4997      63390.686886             7.250591                   4.805081   \n",
       "4998      68001.331235             5.534388                   7.130144   \n",
       "4999      65510.581804             5.992305                   6.792336   \n",
       "\n",
       "      Avg. Area Number of Bedrooms  Area Population         Price  \\\n",
       "0                             4.09     23086.800503  1.059034e+06   \n",
       "1                             3.09     40173.072174  1.505891e+06   \n",
       "2                             5.13     36882.159400  1.058988e+06   \n",
       "3                             3.26     34310.242831  1.260617e+06   \n",
       "4                             4.23     26354.109472  6.309435e+05   \n",
       "...                            ...              ...           ...   \n",
       "4995                          3.46     22837.361035  1.060194e+06   \n",
       "4996                          4.02     25616.115489  1.482618e+06   \n",
       "4997                          2.13     33266.145490  1.030730e+06   \n",
       "4998                          5.44     42625.620156  1.198657e+06   \n",
       "4999                          4.07     46501.283803  1.298950e+06   \n",
       "\n",
       "                                                Address  \n",
       "0     208 Michael Ferry Apt. 674\\nLaurabury, NE 3701...  \n",
       "1     188 Johnson Views Suite 079\\nLake Kathleen, CA...  \n",
       "2     9127 Elizabeth Stravenue\\nDanieltown, WI 06482...  \n",
       "3                             USS Barnett\\nFPO AP 44820  \n",
       "4                            USNS Raymond\\nFPO AE 09386  \n",
       "...                                                 ...  \n",
       "4995                   USNS Williams\\nFPO AP 30153-7653  \n",
       "4996              PSC 9258, Box 8489\\nAPO AA 42991-3352  \n",
       "4997  4215 Tracy Garden Suite 076\\nJoshualand, VA 01...  \n",
       "4998                          USS Wallace\\nFPO AE 73316  \n",
       "4999  37778 George Ridges Apt. 509\\nEast Holly, NV 2...  \n",
       "\n",
       "[5000 rows x 7 columns]>"
      ]
     },
     "execution_count": 10,
     "metadata": {},
     "output_type": "execute_result"
    }
   ],
   "source": [
    "df.describe"
   ]
  },
  {
   "cell_type": "code",
   "execution_count": 11,
   "metadata": {},
   "outputs": [
    {
     "data": {
      "text/html": [
       "<div>\n",
       "<style scoped>\n",
       "    .dataframe tbody tr th:only-of-type {\n",
       "        vertical-align: middle;\n",
       "    }\n",
       "\n",
       "    .dataframe tbody tr th {\n",
       "        vertical-align: top;\n",
       "    }\n",
       "\n",
       "    .dataframe thead th {\n",
       "        text-align: right;\n",
       "    }\n",
       "</style>\n",
       "<table border=\"1\" class=\"dataframe\">\n",
       "  <thead>\n",
       "    <tr style=\"text-align: right;\">\n",
       "      <th></th>\n",
       "      <th>Avg. Area Income</th>\n",
       "      <th>Avg. Area House Age</th>\n",
       "      <th>Avg. Area Number of Rooms</th>\n",
       "      <th>Avg. Area Number of Bedrooms</th>\n",
       "      <th>Area Population</th>\n",
       "      <th>Price</th>\n",
       "    </tr>\n",
       "  </thead>\n",
       "  <tbody>\n",
       "    <tr>\n",
       "      <th>count</th>\n",
       "      <td>5000.000000</td>\n",
       "      <td>5000.000000</td>\n",
       "      <td>5000.000000</td>\n",
       "      <td>5000.000000</td>\n",
       "      <td>5000.000000</td>\n",
       "      <td>5.000000e+03</td>\n",
       "    </tr>\n",
       "    <tr>\n",
       "      <th>mean</th>\n",
       "      <td>68583.108984</td>\n",
       "      <td>5.977222</td>\n",
       "      <td>6.987792</td>\n",
       "      <td>3.981330</td>\n",
       "      <td>36163.516039</td>\n",
       "      <td>1.232073e+06</td>\n",
       "    </tr>\n",
       "    <tr>\n",
       "      <th>std</th>\n",
       "      <td>10657.991214</td>\n",
       "      <td>0.991456</td>\n",
       "      <td>1.005833</td>\n",
       "      <td>1.234137</td>\n",
       "      <td>9925.650114</td>\n",
       "      <td>3.531176e+05</td>\n",
       "    </tr>\n",
       "    <tr>\n",
       "      <th>min</th>\n",
       "      <td>17796.631190</td>\n",
       "      <td>2.644304</td>\n",
       "      <td>3.236194</td>\n",
       "      <td>2.000000</td>\n",
       "      <td>172.610686</td>\n",
       "      <td>1.593866e+04</td>\n",
       "    </tr>\n",
       "    <tr>\n",
       "      <th>25%</th>\n",
       "      <td>61480.562388</td>\n",
       "      <td>5.322283</td>\n",
       "      <td>6.299250</td>\n",
       "      <td>3.140000</td>\n",
       "      <td>29403.928702</td>\n",
       "      <td>9.975771e+05</td>\n",
       "    </tr>\n",
       "    <tr>\n",
       "      <th>50%</th>\n",
       "      <td>68804.286404</td>\n",
       "      <td>5.970429</td>\n",
       "      <td>7.002902</td>\n",
       "      <td>4.050000</td>\n",
       "      <td>36199.406689</td>\n",
       "      <td>1.232669e+06</td>\n",
       "    </tr>\n",
       "    <tr>\n",
       "      <th>75%</th>\n",
       "      <td>75783.338666</td>\n",
       "      <td>6.650808</td>\n",
       "      <td>7.665871</td>\n",
       "      <td>4.490000</td>\n",
       "      <td>42861.290769</td>\n",
       "      <td>1.471210e+06</td>\n",
       "    </tr>\n",
       "    <tr>\n",
       "      <th>max</th>\n",
       "      <td>107701.748378</td>\n",
       "      <td>9.519088</td>\n",
       "      <td>10.759588</td>\n",
       "      <td>6.500000</td>\n",
       "      <td>69621.713378</td>\n",
       "      <td>2.469066e+06</td>\n",
       "    </tr>\n",
       "  </tbody>\n",
       "</table>\n",
       "</div>"
      ],
      "text/plain": [
       "       Avg. Area Income  Avg. Area House Age  Avg. Area Number of Rooms  \\\n",
       "count       5000.000000          5000.000000                5000.000000   \n",
       "mean       68583.108984             5.977222                   6.987792   \n",
       "std        10657.991214             0.991456                   1.005833   \n",
       "min        17796.631190             2.644304                   3.236194   \n",
       "25%        61480.562388             5.322283                   6.299250   \n",
       "50%        68804.286404             5.970429                   7.002902   \n",
       "75%        75783.338666             6.650808                   7.665871   \n",
       "max       107701.748378             9.519088                  10.759588   \n",
       "\n",
       "       Avg. Area Number of Bedrooms  Area Population         Price  \n",
       "count                   5000.000000      5000.000000  5.000000e+03  \n",
       "mean                       3.981330     36163.516039  1.232073e+06  \n",
       "std                        1.234137      9925.650114  3.531176e+05  \n",
       "min                        2.000000       172.610686  1.593866e+04  \n",
       "25%                        3.140000     29403.928702  9.975771e+05  \n",
       "50%                        4.050000     36199.406689  1.232669e+06  \n",
       "75%                        4.490000     42861.290769  1.471210e+06  \n",
       "max                        6.500000     69621.713378  2.469066e+06  "
      ]
     },
     "execution_count": 11,
     "metadata": {},
     "output_type": "execute_result"
    }
   ],
   "source": [
    "df.describe()"
   ]
  },
  {
   "cell_type": "markdown",
   "metadata": {},
   "source": [
    "## Get all the variable names\n"
   ]
  },
  {
   "cell_type": "code",
   "execution_count": null,
   "metadata": {},
   "outputs": [],
   "source": []
  },
  {
   "cell_type": "code",
   "execution_count": 6,
   "metadata": {},
   "outputs": [
    {
     "data": {
      "text/plain": [
       "Index(['Avg. Area Income', 'Avg. Area House Age', 'Avg. Area Number of Rooms',\n",
       "       'Avg. Area Number of Bedrooms', 'Area Population', 'Price', 'Address'],\n",
       "      dtype='object')"
      ]
     },
     "execution_count": 6,
     "metadata": {},
     "output_type": "execute_result"
    }
   ],
   "source": [
    "df.columns"
   ]
  },
  {
   "cell_type": "markdown",
   "metadata": {},
   "source": [
    "## Training a Model"
   ]
  },
  {
   "cell_type": "markdown",
   "metadata": {},
   "source": [
    "### Separate Input and Output Variables ( X and y arrays )"
   ]
  },
  {
   "cell_type": "code",
   "execution_count": 7,
   "metadata": {},
   "outputs": [],
   "source": [
    "X = df[['Avg. Area Income', 'Avg. Area House Age', 'Avg. Area Number of Rooms',\n",
    "       'Avg. Area Number of Bedrooms', 'Area Population']] "
   ]
  },
  {
   "cell_type": "code",
   "execution_count": 8,
   "metadata": {},
   "outputs": [],
   "source": [
    "y = df['Price']"
   ]
  },
  {
   "cell_type": "markdown",
   "metadata": {},
   "source": [
    "## Train Test Split"
   ]
  },
  {
   "cell_type": "code",
   "execution_count": 9,
   "metadata": {},
   "outputs": [],
   "source": [
    "from sklearn.model_selection import train_test_split"
   ]
  },
  {
   "cell_type": "code",
   "execution_count": 10,
   "metadata": {},
   "outputs": [
    {
     "data": {
      "text/plain": [
       "(5000, 5)"
      ]
     },
     "execution_count": 10,
     "metadata": {},
     "output_type": "execute_result"
    }
   ],
   "source": [
    "X.shape"
   ]
  },
  {
   "cell_type": "code",
   "execution_count": 11,
   "metadata": {},
   "outputs": [
    {
     "data": {
      "text/plain": [
       "(5000,)"
      ]
     },
     "execution_count": 11,
     "metadata": {},
     "output_type": "execute_result"
    }
   ],
   "source": [
    "y.shape"
   ]
  },
  {
   "cell_type": "code",
   "execution_count": 12,
   "metadata": {},
   "outputs": [],
   "source": [
    "X_train, X_test, y_train, y_test = train_test_split(X, y, test_size=0.2, random_state=101) # train : 80% and test: 20%"
   ]
  },
  {
   "cell_type": "code",
   "execution_count": 13,
   "metadata": {},
   "outputs": [
    {
     "data": {
      "text/plain": [
       "(4000, 5)"
      ]
     },
     "execution_count": 13,
     "metadata": {},
     "output_type": "execute_result"
    }
   ],
   "source": [
    "X_train.shape"
   ]
  },
  {
   "cell_type": "code",
   "execution_count": 14,
   "metadata": {},
   "outputs": [
    {
     "data": {
      "text/plain": [
       "(4000,)"
      ]
     },
     "execution_count": 14,
     "metadata": {},
     "output_type": "execute_result"
    }
   ],
   "source": [
    "y_train.shape"
   ]
  },
  {
   "cell_type": "code",
   "execution_count": 15,
   "metadata": {},
   "outputs": [
    {
     "data": {
      "text/plain": [
       "(1000, 5)"
      ]
     },
     "execution_count": 15,
     "metadata": {},
     "output_type": "execute_result"
    }
   ],
   "source": [
    "X_test.shape"
   ]
  },
  {
   "cell_type": "code",
   "execution_count": 16,
   "metadata": {},
   "outputs": [
    {
     "data": {
      "text/plain": [
       "(1000,)"
      ]
     },
     "execution_count": 16,
     "metadata": {},
     "output_type": "execute_result"
    }
   ],
   "source": [
    "y_test.shape"
   ]
  },
  {
   "cell_type": "code",
   "execution_count": null,
   "metadata": {},
   "outputs": [],
   "source": []
  },
  {
   "cell_type": "markdown",
   "metadata": {},
   "source": [
    "## Creating and Training the Model"
   ]
  },
  {
   "cell_type": "code",
   "execution_count": 17,
   "metadata": {},
   "outputs": [],
   "source": [
    "from sklearn.linear_model import LinearRegression"
   ]
  },
  {
   "cell_type": "code",
   "execution_count": 18,
   "metadata": {},
   "outputs": [],
   "source": [
    "lr = LinearRegression()"
   ]
  },
  {
   "cell_type": "code",
   "execution_count": 19,
   "metadata": {},
   "outputs": [
    {
     "data": {
      "text/html": [
       "<style>#sk-container-id-1 {color: black;}#sk-container-id-1 pre{padding: 0;}#sk-container-id-1 div.sk-toggleable {background-color: white;}#sk-container-id-1 label.sk-toggleable__label {cursor: pointer;display: block;width: 100%;margin-bottom: 0;padding: 0.3em;box-sizing: border-box;text-align: center;}#sk-container-id-1 label.sk-toggleable__label-arrow:before {content: \"▸\";float: left;margin-right: 0.25em;color: #696969;}#sk-container-id-1 label.sk-toggleable__label-arrow:hover:before {color: black;}#sk-container-id-1 div.sk-estimator:hover label.sk-toggleable__label-arrow:before {color: black;}#sk-container-id-1 div.sk-toggleable__content {max-height: 0;max-width: 0;overflow: hidden;text-align: left;background-color: #f0f8ff;}#sk-container-id-1 div.sk-toggleable__content pre {margin: 0.2em;color: black;border-radius: 0.25em;background-color: #f0f8ff;}#sk-container-id-1 input.sk-toggleable__control:checked~div.sk-toggleable__content {max-height: 200px;max-width: 100%;overflow: auto;}#sk-container-id-1 input.sk-toggleable__control:checked~label.sk-toggleable__label-arrow:before {content: \"▾\";}#sk-container-id-1 div.sk-estimator input.sk-toggleable__control:checked~label.sk-toggleable__label {background-color: #d4ebff;}#sk-container-id-1 div.sk-label input.sk-toggleable__control:checked~label.sk-toggleable__label {background-color: #d4ebff;}#sk-container-id-1 input.sk-hidden--visually {border: 0;clip: rect(1px 1px 1px 1px);clip: rect(1px, 1px, 1px, 1px);height: 1px;margin: -1px;overflow: hidden;padding: 0;position: absolute;width: 1px;}#sk-container-id-1 div.sk-estimator {font-family: monospace;background-color: #f0f8ff;border: 1px dotted black;border-radius: 0.25em;box-sizing: border-box;margin-bottom: 0.5em;}#sk-container-id-1 div.sk-estimator:hover {background-color: #d4ebff;}#sk-container-id-1 div.sk-parallel-item::after {content: \"\";width: 100%;border-bottom: 1px solid gray;flex-grow: 1;}#sk-container-id-1 div.sk-label:hover label.sk-toggleable__label {background-color: #d4ebff;}#sk-container-id-1 div.sk-serial::before {content: \"\";position: absolute;border-left: 1px solid gray;box-sizing: border-box;top: 0;bottom: 0;left: 50%;z-index: 0;}#sk-container-id-1 div.sk-serial {display: flex;flex-direction: column;align-items: center;background-color: white;padding-right: 0.2em;padding-left: 0.2em;position: relative;}#sk-container-id-1 div.sk-item {position: relative;z-index: 1;}#sk-container-id-1 div.sk-parallel {display: flex;align-items: stretch;justify-content: center;background-color: white;position: relative;}#sk-container-id-1 div.sk-item::before, #sk-container-id-1 div.sk-parallel-item::before {content: \"\";position: absolute;border-left: 1px solid gray;box-sizing: border-box;top: 0;bottom: 0;left: 50%;z-index: -1;}#sk-container-id-1 div.sk-parallel-item {display: flex;flex-direction: column;z-index: 1;position: relative;background-color: white;}#sk-container-id-1 div.sk-parallel-item:first-child::after {align-self: flex-end;width: 50%;}#sk-container-id-1 div.sk-parallel-item:last-child::after {align-self: flex-start;width: 50%;}#sk-container-id-1 div.sk-parallel-item:only-child::after {width: 0;}#sk-container-id-1 div.sk-dashed-wrapped {border: 1px dashed gray;margin: 0 0.4em 0.5em 0.4em;box-sizing: border-box;padding-bottom: 0.4em;background-color: white;}#sk-container-id-1 div.sk-label label {font-family: monospace;font-weight: bold;display: inline-block;line-height: 1.2em;}#sk-container-id-1 div.sk-label-container {text-align: center;}#sk-container-id-1 div.sk-container {/* jupyter's `normalize.less` sets `[hidden] { display: none; }` but bootstrap.min.css set `[hidden] { display: none !important; }` so we also need the `!important` here to be able to override the default hidden behavior on the sphinx rendered scikit-learn.org. See: https://github.com/scikit-learn/scikit-learn/issues/21755 */display: inline-block !important;position: relative;}#sk-container-id-1 div.sk-text-repr-fallback {display: none;}</style><div id=\"sk-container-id-1\" class=\"sk-top-container\"><div class=\"sk-text-repr-fallback\"><pre>LinearRegression()</pre><b>In a Jupyter environment, please rerun this cell to show the HTML representation or trust the notebook. <br />On GitHub, the HTML representation is unable to render, please try loading this page with nbviewer.org.</b></div><div class=\"sk-container\" hidden><div class=\"sk-item\"><div class=\"sk-estimator sk-toggleable\"><input class=\"sk-toggleable__control sk-hidden--visually\" id=\"sk-estimator-id-1\" type=\"checkbox\" checked><label for=\"sk-estimator-id-1\" class=\"sk-toggleable__label sk-toggleable__label-arrow\">LinearRegression</label><div class=\"sk-toggleable__content\"><pre>LinearRegression()</pre></div></div></div></div></div>"
      ],
      "text/plain": [
       "LinearRegression()"
      ]
     },
     "execution_count": 19,
     "metadata": {},
     "output_type": "execute_result"
    }
   ],
   "source": [
    "lr.fit(X_train,y_train)"
   ]
  },
  {
   "cell_type": "markdown",
   "metadata": {},
   "source": [
    "## Model Evaluation"
   ]
  },
  {
   "cell_type": "code",
   "execution_count": 22,
   "metadata": {},
   "outputs": [
    {
     "name": "stdout",
     "output_type": "stream",
     "text": [
      "-2640441.399782747\n"
     ]
    }
   ],
   "source": [
    "\n",
    "print(lr.intercept_)"
   ]
  },
  {
   "cell_type": "code",
   "execution_count": 23,
   "metadata": {},
   "outputs": [
    {
     "data": {
      "text/html": [
       "<div>\n",
       "<style scoped>\n",
       "    .dataframe tbody tr th:only-of-type {\n",
       "        vertical-align: middle;\n",
       "    }\n",
       "\n",
       "    .dataframe tbody tr th {\n",
       "        vertical-align: top;\n",
       "    }\n",
       "\n",
       "    .dataframe thead th {\n",
       "        text-align: right;\n",
       "    }\n",
       "</style>\n",
       "<table border=\"1\" class=\"dataframe\">\n",
       "  <thead>\n",
       "    <tr style=\"text-align: right;\">\n",
       "      <th></th>\n",
       "      <th>Coefficient</th>\n",
       "    </tr>\n",
       "  </thead>\n",
       "  <tbody>\n",
       "    <tr>\n",
       "      <th>Avg. Area Income</th>\n",
       "      <td>21.566696</td>\n",
       "    </tr>\n",
       "    <tr>\n",
       "      <th>Avg. Area House Age</th>\n",
       "      <td>165453.042478</td>\n",
       "    </tr>\n",
       "    <tr>\n",
       "      <th>Avg. Area Number of Rooms</th>\n",
       "      <td>120499.839093</td>\n",
       "    </tr>\n",
       "    <tr>\n",
       "      <th>Avg. Area Number of Bedrooms</th>\n",
       "      <td>1999.785336</td>\n",
       "    </tr>\n",
       "    <tr>\n",
       "      <th>Area Population</th>\n",
       "      <td>15.340604</td>\n",
       "    </tr>\n",
       "  </tbody>\n",
       "</table>\n",
       "</div>"
      ],
      "text/plain": [
       "                                Coefficient\n",
       "Avg. Area Income                  21.566696\n",
       "Avg. Area House Age           165453.042478\n",
       "Avg. Area Number of Rooms     120499.839093\n",
       "Avg. Area Number of Bedrooms    1999.785336\n",
       "Area Population                   15.340604"
      ]
     },
     "execution_count": 23,
     "metadata": {},
     "output_type": "execute_result"
    }
   ],
   "source": [
    "coeff_df = pandas.DataFrame(lr.coef_,X.columns,columns=['Coefficient'])\n",
    "coeff_df"
   ]
  },
  {
   "cell_type": "markdown",
   "metadata": {},
   "source": [
    "## Make Predictions on test data"
   ]
  },
  {
   "cell_type": "code",
   "execution_count": 24,
   "metadata": {},
   "outputs": [],
   "source": [
    "predictions = lr.predict(X_test)"
   ]
  },
  {
   "cell_type": "code",
   "execution_count": 25,
   "metadata": {},
   "outputs": [
    {
     "data": {
      "text/plain": [
       "array([1257919.72909702,  822112.41884159, 1740669.05865521,\n",
       "        972452.12917467,  993422.26329271,  644126.0741441 ,\n",
       "       1073911.79101603,  856584.0019415 , 1445318.25518378,\n",
       "       1204342.19071247, 1455792.4621292 , 1298556.65696466,\n",
       "       1735924.33836111, 1336925.77577769, 1387637.43231933,\n",
       "       1222403.77772037,  613786.28691901,  963933.54416242,\n",
       "       1221197.33050126, 1198071.575636  ,  505861.89531603,\n",
       "       1769106.54723412, 1853881.16842501, 1200369.50507915,\n",
       "       1065129.12850722, 1812033.73067374, 1768686.4709129 ,\n",
       "       1439920.8381432 , 1387251.99649402, 1541178.39224192,\n",
       "        726418.80504193, 1754497.60908682, 1462185.72653131,\n",
       "       1025600.16081094, 1284926.86851569,  917454.59590892,\n",
       "       1187046.9495692 ,  999330.91117485, 1329536.63409617,\n",
       "        782191.60441407, 1393272.03053871,  578216.88394887,\n",
       "        822643.37150989, 1895533.11413248, 1672019.84892043,\n",
       "        966926.45434595, 1129674.55638151,  792797.7591463 ,\n",
       "       1161057.18412157, 1472396.71417132, 1457656.70412264,\n",
       "       1162939.33422891, 1099453.68110997, 1358107.44619368,\n",
       "        841103.70380511,  986322.30573628, 1123323.53002129,\n",
       "       1253538.63235197, 1428279.66304122,  499103.20906131,\n",
       "       1462817.08350596, 1108744.3685684 ,  660588.51700913,\n",
       "       1247031.59801307, 1342744.55515714, 1357505.99080673,\n",
       "        818858.41205514, 1487168.74911965, 1396247.65598559,\n",
       "        885078.37963966,  857545.83060815, 1212816.45100814,\n",
       "       1101069.27148255, 1834591.82895329,  924022.96601962,\n",
       "        855346.80844435,  822070.44924449, 1397829.21230587,\n",
       "        775933.86431479, 1638075.37405606, 1079223.32119157,\n",
       "       1355542.10150277, 1321447.90227205, 1198773.4959386 ,\n",
       "        757960.00844903,  649708.59768146, 1058567.42526746,\n",
       "       1384318.81434911, 1030349.32788239, 1297790.45656861,\n",
       "        550588.21509199, 1706268.87594955,  840478.99085903,\n",
       "       1627285.73221853, 1051446.08561775,  947163.26591079,\n",
       "       1187965.14618724, 1556566.4890799 ,  900538.6798186 ,\n",
       "        995246.18312483, 1221693.84495752, 1592557.49052127,\n",
       "        977671.9725215 , 1428171.20086126, 1015834.61615169,\n",
       "       1448110.17850654,  877865.27098712,  831194.858902  ,\n",
       "       1022735.97232755, 1844169.94971878, 1925418.90852385,\n",
       "       1405526.22350206, 1042730.58532392, 1056912.4131136 ,\n",
       "       1440167.01805722, 1029466.31854895, 1188198.60368717,\n",
       "       1407875.62844787, 1266581.80632358, 1562660.40296839,\n",
       "        767006.37537491, 1394809.14740283, 2083454.34315194,\n",
       "       1468363.78038269, 1326116.16921459, 1314342.13126915,\n",
       "        920802.61547054,  780407.51750681, 1678929.25641758,\n",
       "       1173317.53334914,  863938.93280978,  831496.26628445,\n",
       "       1552893.3350874 ,  814232.28006268,  628932.80758304,\n",
       "       1230219.74082373, 1009051.68059261, 1134177.07317913,\n",
       "       1759135.80092833, 1185004.78325448,  589995.18477415,\n",
       "       1392467.64100485, 1381608.25483978, 1726383.2023417 ,\n",
       "       1169019.22666437, 1019912.31831192, 1730374.72274487,\n",
       "       1094660.75381876, 1641553.67845485, 1425844.82715537,\n",
       "       1372526.0048869 ,  957370.57751685, 1758571.00815344,\n",
       "       1215039.09536635, 1228730.36129986,  949454.36633481,\n",
       "       1240479.54491373, 1259976.01494414, 1275292.19649774,\n",
       "       1125707.61597883, 1513693.61295008, 1559271.12556499,\n",
       "        798393.94186548, 1546245.51538429, 1278490.24324256,\n",
       "       1048130.23839063, 1258823.84340794, 1647111.76109957,\n",
       "       1110683.68416378,  474642.39147962, 1647293.82576331,\n",
       "       1314423.54403659, 1667425.25325264, 1673875.47188474,\n",
       "       1691912.0736768 , 1809235.34507823, 1557560.55120817,\n",
       "        872642.52777454, 1383629.88700028, 1588489.67118672,\n",
       "       1394366.66112766, 1126784.35366253, 1453577.32336091,\n",
       "        891270.7248379 ,  929092.0497481 , 1124619.49617796,\n",
       "       1189423.55209016, 1093519.52228558, 1352603.44998771,\n",
       "       1104585.87337574, 1041445.01140672, 1840823.20915416,\n",
       "       1269025.97772491, 1195900.79478583, 1982501.87427696,\n",
       "       1172318.99196675,  664063.7177024 , 1516831.57884778,\n",
       "       1208883.11787142, 1122128.21428181, 1735594.69613132,\n",
       "        865742.02321767,  969966.38355345, 1331559.38783124,\n",
       "        909257.90044037, 1330515.26483826, 1267149.95713832,\n",
       "        971617.92004166, 1240075.55463069, 1990811.03720162,\n",
       "       1502950.35445616, 1142677.03057194, 1889344.61144071,\n",
       "       1542683.11071984, 1255495.76569649, 1266858.02867601,\n",
       "       1336567.39146565,  250802.81939399, 1128344.25997844,\n",
       "       1251829.92396524, 1365458.3653073 , 1731381.4017669 ,\n",
       "       1048930.57357264, 1054510.18009091, 1426952.23586617,\n",
       "        930090.2478859 ,  866136.48384146, 1648292.85950451,\n",
       "       1183126.48975382, 1342085.93169435,  818757.0616158 ,\n",
       "       1563303.5872224 , 1348611.3575956 , 1815034.40114914,\n",
       "       1260025.43364723, 1220361.24580661,  648792.09698499,\n",
       "       1331385.09390245,  393964.58716683, 1283083.66082918,\n",
       "       1354368.39181225, 1594675.47475929, 1019367.9976124 ,\n",
       "       1154895.92538187, 1477596.50350883, 1606153.12418653,\n",
       "       1336855.88411907, 1787639.82065302, 1798694.76607208,\n",
       "        945560.93733885, 1240280.37820955, 1131796.89791837,\n",
       "       1506418.64098839, 1172398.89664802, 1575031.41932432,\n",
       "       1620022.75906834,  328146.62358408,  423405.29747038,\n",
       "        808473.31515995, 1808607.71767722, 1161437.63350299,\n",
       "       1290105.28066315,  488495.93102185, 1355523.83914804,\n",
       "       1791747.7447372 ,  530190.75975264,  895829.94850122,\n",
       "       1234872.22552466, 1205813.61309831, 1142869.05130453,\n",
       "       1544709.4939471 , 1397728.97367417,  809314.75267931,\n",
       "        916515.54081237, 1717159.66171617, 1071915.8062519 ,\n",
       "       1265594.03975713, 1563516.24575814, 1150899.1293337 ,\n",
       "       1087806.80720924, 1723353.35034299, 1401272.11235769,\n",
       "       1097379.04885362, 1642119.10859637, 1062758.32253018,\n",
       "       1729910.73155047, 1038760.99971198, 1360748.10902356,\n",
       "       1345562.75881672, 1331901.19961846, 1002669.41036269,\n",
       "       1344417.49481141, 1130066.69205493, 1559820.77379439,\n",
       "       1706430.10202802, 2038885.49719493,  833086.74048154,\n",
       "       1045214.81139672, 1134207.36502599,  935557.8626119 ,\n",
       "       1372030.49915438,  815056.03547648, 1247496.29555775,\n",
       "       1363128.23823956, 1496484.74422265, 2229545.19220231,\n",
       "        777432.21374564, 1191745.78488604, 1096163.09011383,\n",
       "       1272909.82942154, 1625931.48842   ,  918993.98721273,\n",
       "       1006465.36876018, 1594755.76588704,  846284.31587627,\n",
       "        849305.27099753,  570666.97669646, 1801007.09806162,\n",
       "       1485857.70101224, 1686344.68445289, 1231934.75994861,\n",
       "       1356156.40905857, 1097791.78972476, 1193394.13367248,\n",
       "       1126904.8260335 , 1084596.34251205, 1044677.12842421,\n",
       "       2012287.09940275,  749703.83822277, 1125570.87522004,\n",
       "       1353902.80662891, 1582337.54477091, 1132363.84344734,\n",
       "       1127593.01594912, 1558175.09336618, 1470124.64995499,\n",
       "       1170136.96370432, 1057993.19774246, 1727175.42480453,\n",
       "       1099174.32885395, 1878927.95333355,  953041.98641359,\n",
       "        220148.9572892 , 1469299.40126816, 1351934.36007796,\n",
       "       1965515.79787783,  471073.53784782, 1078285.07736082,\n",
       "       1398197.71162196, 1034751.62141476,  792832.03083267,\n",
       "       1446399.20930524, 1103988.7438239 , 1691306.84800486,\n",
       "       1107502.12092285, 1078162.52791713, 1708451.35611246,\n",
       "       1134799.50112116,  872219.41731047,  871276.63375483,\n",
       "        566610.74806559, 1539564.17473202, 1215068.56129622,\n",
       "       1750435.57551386,  780818.77892102, 1005278.89082765,\n",
       "       1699864.56225512,  613683.19049408, 1238072.2278457 ,\n",
       "       1590149.31057473, 1332467.65674137, 1110842.05743912,\n",
       "       1279563.18720225,  894290.71453427,  812546.81486425,\n",
       "       1551251.04056048, 1359009.91049325, 1253121.43582754,\n",
       "       1229760.03037492, 1499246.99540714,  919454.7272211 ,\n",
       "       1331679.12723352, 1089870.75329724,  958885.84241732,\n",
       "       1064647.10625624,  941059.19510322,  968260.24774286,\n",
       "       1046073.3064348 , 1645969.84910668, 1166194.6570353 ,\n",
       "       1312898.64523889, 1624075.11838921, 1122680.60708489,\n",
       "       1293518.53738794, 1362243.66193656, 1044593.86406863,\n",
       "       1045450.34099258, 1446228.97176158, 1314918.61125758,\n",
       "       1054569.81836336, 1953570.35858164, 1514052.3651148 ,\n",
       "       1204362.00072166, 1982821.65391305,  680652.285996  ,\n",
       "       1723833.10289119, 1461941.7213217 , 1413218.72506812,\n",
       "       1074165.48822033, 1048173.12975172, 1205533.14320524,\n",
       "        997083.01429438, 1087634.17215557,  799234.75302623,\n",
       "        972455.40342025,  801856.53463541,  874552.70140619,\n",
       "       1379123.09013543, 1126134.74113508, 1298148.81659173,\n",
       "       1428161.98519902, 1355123.02342578, 1553045.32879637,\n",
       "       1870468.8905517 ,  941675.18754306,  710776.75163628,\n",
       "       1590857.45772608, 1458290.81462484,  666201.26424446,\n",
       "       1740887.20683877, 1311991.94997925, 1798637.13769331,\n",
       "        833944.90420264, 1302260.14903348, 1587128.52619356,\n",
       "       1317721.78646434, 1668052.02029799,  936367.43448392,\n",
       "       1700849.4572974 , 1165066.71552707, 1555174.98797132,\n",
       "       1203157.19294343, 2182009.99760788, 1050703.0489879 ,\n",
       "       1085255.4300267 ,  687418.24136504, 1225471.31016582,\n",
       "       1236416.18898881, 1234673.47753594,  930443.04904877,\n",
       "       1501992.00715132, 1273737.55032491,  950041.90286092,\n",
       "       1222288.62260196, 1196391.39810324, 1126494.32325599,\n",
       "       1430405.24832761,  654124.8831567 ,  895637.24071153,\n",
       "        292231.65792434, 1320679.35025195,  805569.98785647,\n",
       "       1233937.60765143, 1104581.67567448,  908260.05005044,\n",
       "       1127651.17125847, 1746143.30165414,  550595.13591304,\n",
       "        887562.56379595, 1318241.03673428, 1104224.94782253,\n",
       "       1268614.59782298,  773344.8631858 , 1279225.19247155,\n",
       "       1409430.68554408, 1438394.94609851, 1242233.55899926,\n",
       "        976371.07650908,  961172.77960744, 1405311.34334197,\n",
       "       1231311.47373036, 1416589.57175482, 1039865.6676068 ,\n",
       "        405050.76035523, 1831567.93596022,  994168.26437296,\n",
       "       1601760.17451138, 1894119.37065246,  838793.55050756,\n",
       "        942753.23147983, 2020611.4075054 ,  892650.27370594,\n",
       "       1103392.89712621, 1856735.83501442, 1374941.34714015,\n",
       "       1347030.94183167,  839567.5605357 , 1868960.81804428,\n",
       "       1046950.66016826,  837784.75799139, 1243870.52458905,\n",
       "        945414.87848939, 1003374.52464104, 1290578.27919754,\n",
       "       1173331.32430936, 1522296.8701606 , 1104182.96400395,\n",
       "       1284736.34065275,  666922.22096185,  673548.38060276,\n",
       "        839842.8749453 , 1485091.8794947 , 1758926.10019639,\n",
       "        616983.40087438, 1267547.1469903 ,  899323.40602071,\n",
       "       1158839.68496765,  754436.13286453, 1150948.88850283,\n",
       "       1255846.07002464,  771868.76930293, 1323417.05382809,\n",
       "        929827.5405126 , 1067842.89483066, 1110264.9618051 ,\n",
       "       1540579.01469893,  806070.20397053, 1375018.45965401,\n",
       "       1583012.86371893, 1215804.72853393, 1846871.22490033,\n",
       "       1719674.1492073 , 1072371.61082916, 1261854.33505595,\n",
       "       1801461.10335276, 1289458.68342124, 1371299.08117262,\n",
       "        983760.56441539, 1324124.02939077, 1051323.27262372,\n",
       "       1007052.94431842, 1401321.32709768, 1571085.17286594,\n",
       "       1229001.87119933, 1283186.6119154 , 1288554.56408122,\n",
       "       1415412.18859026, 1103447.66939716, 1650111.15596441,\n",
       "       1351906.62870433,  806922.81052791, 1101879.75531382,\n",
       "       1087454.15324987, 1407522.12276347, 1458792.37938209,\n",
       "       1472979.40100096, 1430788.1506088 , 1233623.36217132,\n",
       "       1870533.1738832 , 1257158.33660753, 1600913.12822192,\n",
       "       1356762.37639216, 1319817.63503652, 1236051.91081972,\n",
       "       1268181.3859548 , 1129570.75163042, 1705669.67477199,\n",
       "       1411102.91700151, 2273540.41800159, 1207547.00425384,\n",
       "        899781.38470326, 1254140.99658797, 1542438.22564708,\n",
       "        657936.46719066, 1385268.91742456,  878970.16758747,\n",
       "       1109196.43128006, 1353391.17019489, 1696115.98345164,\n",
       "       1413282.72684306, 1827087.79734274, 1120215.62692067,\n",
       "       1356976.31422341, 1223780.10870802, 1248092.82209742,\n",
       "       1769843.1352959 ,  949225.39612278, 1477952.65052374,\n",
       "       1255282.59862206,  426003.13583228,  707530.77134156,\n",
       "       1696903.01183541, 1163050.51049315, 1323411.50332678,\n",
       "       2075338.18777909, 1574543.41531439, 1817164.81632792,\n",
       "       1027880.42644484,  984572.34397009, 1347495.61247845,\n",
       "       1405652.70637103, 1378100.5765489 , 1725502.29330142,\n",
       "       1380099.65837835, 1577843.39344053, 1624768.07507516,\n",
       "        620250.9699476 ,  678847.62293442, 1255463.63367958,\n",
       "       1493178.26766316, 1251118.57109741, 1531225.73324982,\n",
       "       1038742.17013493,  158813.64470798,  670803.74477189,\n",
       "       1358866.25754749, 1116231.80776698,  825567.42192943,\n",
       "       1205988.87074566, 1163767.67010666, 1795770.41249086,\n",
       "       1037902.14643282, 1066195.46095051, 1082294.65493899,\n",
       "       1435062.76289116, 1454466.64233037, 1330792.13240168,\n",
       "       1690582.50968994, 1069251.94877646,  808110.53863424,\n",
       "        625553.64644636,  919490.05366666, 1353662.25460052,\n",
       "       1184444.42780241, 1539245.25567165, 1208513.48652744,\n",
       "        837956.30959006, 1659341.88709956, 1392103.22796811,\n",
       "       1589783.52479695, 1262963.45793827, 1511554.88048275,\n",
       "        883619.90417813, 1022564.24782628, 2053151.68156274,\n",
       "       1324454.2212334 , 1339389.73837418,  916369.74594456,\n",
       "       1080360.83870133, 1124354.20250189, 1225725.5176208 ,\n",
       "       1036709.01383116, 1234858.08609738, 1055632.34784634,\n",
       "       1517840.47571408, 1327306.74681089, 1172875.4652656 ,\n",
       "        663510.22702185,  994880.08825448,  659636.17716458,\n",
       "       1215833.38654979, 1289298.54249135, 1049066.68537308,\n",
       "       1002058.65544535, 1479008.16442303, 1133499.87344616,\n",
       "       1343292.37992956, 1240281.28609783, 1875671.59202039,\n",
       "       1384525.66937379,  900349.97821806, 1491477.28606247,\n",
       "        291738.12188848, 1146285.9434129 , 1367218.08956075,\n",
       "       1289910.89226947, 1291184.80883994, 1824408.57177578,\n",
       "       1491241.22277746, 1389476.45607108, 1321293.64559141,\n",
       "       1284967.15703039,  846503.99338385, 1311564.6014769 ,\n",
       "       1451747.22228851, 1884449.22275664, 1289541.93048485,\n",
       "        794205.10442263, 1192680.65890846, 1126098.68560042,\n",
       "       1509907.6006972 , 1913607.45329314,  829309.12969358,\n",
       "        595859.28942391, 1582813.30557301, 1035614.81747865,\n",
       "       1456522.85913472,  925110.32853896, 1095178.12784989,\n",
       "       1245801.01775958, 1464082.99859735, 1554146.77201271,\n",
       "        965107.42154285, 1356373.22425323, 1673565.8869308 ,\n",
       "       1158338.71531147, 1281278.86098642,  787926.23885831,\n",
       "       1408326.6750464 , 1269972.82557285,  440821.15599049,\n",
       "       1191806.26503548,  856260.9545455 , 1026274.59180668,\n",
       "        915461.63191217, 1813981.92931013, 1260397.95598955,\n",
       "       1238979.10170187, 1387410.70387986,  804543.00233407,\n",
       "       1184273.71677173,  895553.53733269,  666753.31378979,\n",
       "        494113.56401911, 1433820.74136209,  920519.49342513,\n",
       "       1552699.63507725, 1314958.29825842, 1408137.11007562,\n",
       "       1105205.03868522, 1225374.96680486, 1555967.60398292,\n",
       "        764356.87177413, 1209380.67918518, 1307446.07617437,\n",
       "       1156888.4994963 , 1477617.77388568, 1570107.70957011,\n",
       "        888604.61517346, 1357192.46882913, 1122559.1071573 ,\n",
       "       1611585.45883456, 1055610.51785017, 1553877.59575494,\n",
       "       1094835.14060777,  925610.91139428, 1443072.82447101,\n",
       "        887534.13744464,  456214.1063658 , 1667261.18226127,\n",
       "       1271904.57635986, 1182679.40285225, 1649171.89032572,\n",
       "       1423009.73879244, 1484679.82766716, 1033297.25906545,\n",
       "       1292529.61451371, 1145394.95691423,  978455.62438476,\n",
       "       1249136.06087091, 1127225.37341862,  892653.77412777,\n",
       "       1511054.9005661 ,  873016.64861251,  776802.4364588 ,\n",
       "       1039353.56985983, 1315157.46162111, 1584289.80977643,\n",
       "        987849.39018952, 1368365.93287233, 1100557.38102385,\n",
       "       1365918.94448371,  935645.93243853,  324562.71318804,\n",
       "        882741.43894225, 1276731.8051969 , 1198249.83684049,\n",
       "       1049018.28659791,  636396.70371244, 1449632.62265723,\n",
       "       1383995.4172737 , 1298088.72377615, 1540539.70367865,\n",
       "       1493896.99889355, 2343746.35475268, 1872235.70486272,\n",
       "       1439963.72939743,  764711.2878142 ,  800048.0813559 ,\n",
       "       1913553.8463325 ,  788172.68793107, 1569240.63551057,\n",
       "       1490513.5884812 , 1140794.46978983, 1258627.64263328,\n",
       "        711243.70457597, 1250422.00060627, 1164795.5837309 ,\n",
       "       1719556.05365754, 1144266.71457965, 1494354.61963914,\n",
       "       1483904.82826291, 1384296.65337793, 2120401.56572469,\n",
       "       1436436.14421419, 1360879.5696473 ,  948664.59412423,\n",
       "       1531287.09616395,  891575.11288506, 1323714.3161677 ,\n",
       "        743700.71602075, 1226590.09491117,  990596.20736167,\n",
       "       1233992.23613096, 1418498.89087377, 1538321.56247507,\n",
       "        496671.07127668, 1441826.36086485, 1807086.36903344,\n",
       "       1288631.96182088, 1067396.35435442, 1234051.48903075,\n",
       "       1510931.44172479, 1238596.80367889, 1079587.86267658,\n",
       "       1096446.24680174, 1340780.37376679, 1728349.44751987,\n",
       "       1182885.47597412, 1396880.83572764,  848540.01935785,\n",
       "       1118181.60414614, 1450084.64438113, 2095131.06695951,\n",
       "       1432554.83693456, 1097488.60717852, 1543895.07644608,\n",
       "        589701.16866241, 1632891.15370883, 1462326.3471805 ,\n",
       "       1251619.86424672, 1215142.06779045,  887591.37509539,\n",
       "       1012091.21646145, 1528992.42455749, 1224454.45215433,\n",
       "       1657636.49616479, 1521618.14196468, 1395801.01427086,\n",
       "       1559056.91331908, 1474320.21595223, 1266083.75708805,\n",
       "        598008.4167558 ,  775371.04758139, 1626814.61246954,\n",
       "       1184704.01403624, 1378438.85088388, 1999851.71462667,\n",
       "        519552.57086077,  939469.86749731, 1730275.64303123,\n",
       "        787500.26420728, 1266092.51639923, 1334783.7952661 ,\n",
       "       1311501.65110265,  790924.30378217, 1701593.43688021,\n",
       "       1031290.33368516, 1384964.63414433, 1881154.94357278,\n",
       "       1135281.19135158, 1155858.13118127,  821938.51015285,\n",
       "       1392569.03068397, 1828630.68901134, 1499599.51634761,\n",
       "       1768913.65916686, 2140238.41934367, 1312065.46959488,\n",
       "       1297778.51810691,  954090.00438515, 1164766.05704668,\n",
       "       1762265.1988385 , 1272190.22341187, 1337046.93436152,\n",
       "       1734432.16375085, 1241997.2690277 , 1545171.1118073 ,\n",
       "       1410803.40672299,  842583.16037092, 1410431.15875666,\n",
       "        843468.41686819,  963938.51049728, 1359381.61691056,\n",
       "       1086200.92077126, 1724349.54285925, 1488902.61977164,\n",
       "       1435137.8430278 , 2032773.75166542, 1550293.84023724,\n",
       "       1117672.92731734, 1228981.238028  , 1024338.06123569,\n",
       "       1152686.83818245, 1016242.46686355, 1375666.28141442,\n",
       "       1050507.27599623, 1181790.30431003, 1525713.82292135,\n",
       "       1681606.23746166, 1205200.14071613, 1473170.4275135 ,\n",
       "       1290698.64726249, 1157017.9186422 , 1637827.88146087,\n",
       "        591770.21795482, 1900211.94766088, 1461556.14927774,\n",
       "       1338718.53329401, 1365231.39271015,  966650.94972983,\n",
       "       1677602.58059909, 1401419.04822975, 2018052.80955535,\n",
       "       1183950.82427355, 1450992.61747408, 1177265.33458175,\n",
       "        843749.1031284 , 1497536.13019617, 1529073.7134647 ,\n",
       "        558964.8750813 , 1261583.21927579, 1753273.50402713,\n",
       "       1500926.03391744, 1059402.18036574, 1709352.57075327,\n",
       "       1112889.93924336, 1247534.54359937,  853834.33305624,\n",
       "        706144.92549215, 1070761.99800874, 1659159.91706253,\n",
       "       1062693.47036798, 1073545.827184  , 1036990.30062356,\n",
       "       1052078.86312706, 1568784.39882081, 1309154.63561289,\n",
       "        858450.71935706,  988956.07442325, 1396520.63086165,\n",
       "       1769711.99813386, 1283298.07540838, 1515402.04421723,\n",
       "       1256935.59508216, 1320333.17632634, 1505221.09859189,\n",
       "       1110347.82733372,  771327.59692899, 1189663.34806257,\n",
       "       1128591.58671447, 1533502.46341335, 2187616.08323901,\n",
       "       1177106.83506029, 1490349.58869938, 1410251.54407989,\n",
       "       1461916.30494541, 1548793.6300072 , 2006242.92462385,\n",
       "       1312408.85291958, 1581878.60451198,  631870.52706478,\n",
       "       2015104.50190253, 1056903.78936544, 1547405.20803551,\n",
       "        875505.84365125, 1826751.87241306, 1174567.82091777,\n",
       "        844395.3540978 , 1682709.20726038, 1275129.63095663,\n",
       "       1526887.72765499, 1000089.93827973, 1529941.81041067,\n",
       "        520249.23833002, 1509899.51986629, 1245221.05841977,\n",
       "       1415065.50463881, 1664533.90291699, 1299536.24469728,\n",
       "       1475156.35270591, 1587824.19159125, 1087189.99440729,\n",
       "       1242310.46082563,  932496.32274178, 1457832.98702955,\n",
       "       1327013.30958733, 1365624.93545968, 1065213.12237209,\n",
       "       1097280.88986127])"
      ]
     },
     "execution_count": 25,
     "metadata": {},
     "output_type": "execute_result"
    }
   ],
   "source": [
    "predictions"
   ]
  },
  {
   "cell_type": "markdown",
   "metadata": {},
   "source": [
    "## Find Regression Evaluation Metrics \n",
    "### (Mean Absolute Error,  Mean Squared Error and  Root Mean Squared Error)"
   ]
  },
  {
   "cell_type": "code",
   "execution_count": 26,
   "metadata": {},
   "outputs": [],
   "source": [
    "from sklearn import metrics"
   ]
  },
  {
   "cell_type": "code",
   "execution_count": 27,
   "metadata": {},
   "outputs": [],
   "source": [
    "import numpy"
   ]
  },
  {
   "cell_type": "code",
   "execution_count": 28,
   "metadata": {},
   "outputs": [
    {
     "name": "stdout",
     "output_type": "stream",
     "text": [
      "MAE: 81305.23300086716\n",
      "MSE: 10100187858.869936\n",
      "RMSE: 100499.6908396734\n"
     ]
    }
   ],
   "source": [
    "print('MAE:', metrics.mean_absolute_error(y_test, predictions))\n",
    "print('MSE:', metrics.mean_squared_error(y_test, predictions))\n",
    "print('RMSE:', numpy.sqrt(metrics.mean_squared_error(y_test, predictions)))"
   ]
  },
  {
   "cell_type": "code",
   "execution_count": null,
   "metadata": {},
   "outputs": [],
   "source": []
  },
  {
   "cell_type": "code",
   "execution_count": null,
   "metadata": {},
   "outputs": [],
   "source": []
  },
  {
   "cell_type": "code",
   "execution_count": null,
   "metadata": {},
   "outputs": [],
   "source": []
  },
  {
   "cell_type": "code",
   "execution_count": null,
   "metadata": {},
   "outputs": [],
   "source": []
  },
  {
   "cell_type": "code",
   "execution_count": null,
   "metadata": {},
   "outputs": [],
   "source": [
    "#Code By Tarun Ranganaath"
   ]
  }
 ],
 "metadata": {
  "kernelspec": {
   "display_name": "Python 3 (ipykernel)",
   "language": "python",
   "name": "python3"
  },
  "language_info": {
   "codemirror_mode": {
    "name": "ipython",
    "version": 3
   },
   "file_extension": ".py",
   "mimetype": "text/x-python",
   "name": "python",
   "nbconvert_exporter": "python",
   "pygments_lexer": "ipython3",
   "version": "3.11.4"
  }
 },
 "nbformat": 4,
 "nbformat_minor": 4
}
